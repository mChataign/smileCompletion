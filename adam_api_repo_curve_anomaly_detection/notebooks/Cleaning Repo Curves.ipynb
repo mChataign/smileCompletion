{
 "cells": [
  {
   "cell_type": "code",
   "execution_count": 1,
   "metadata": {
    "collapsed": true
   },
   "outputs": [],
   "source": [
    "import sys\n",
    "import pandas as pd\n",
    "import numpy as np\n",
    "from numba import jit\n",
    "import json\n",
    "import matplotlib.pyplot as plt\n",
    "import seaborn as sns\n",
    "import numpy as np\n",
    "import xmltodict\n",
    "import numpy.polynomial as p\n",
    "from multiprocessing import Pool\n",
    "import time\n",
    "from datetime import datetime , date, timedelta\n",
    "\n",
    "from fottech_lib.market_data.dmds import DMDSServices \n",
    "from fottech_lib import instrumentservice\n",
    "from fottech_lib.market_data.repo import Repo\n",
    "\n",
    "import project.market_data.repocurves as repoc\n",
    "from project.market_data.repocurves import RepoCurves"
   ]
  },
  {
   "cell_type": "markdown",
   "metadata": {},
   "source": [
    "### Loading data"
   ]
  },
  {
   "cell_type": "code",
   "execution_count": 15,
   "metadata": {
    "collapsed": true
   },
   "outputs": [],
   "source": [
    "path_to_data_SX5E = 'data/processed/SX5E/Repo/repo_schedule_SX5E_from_20130101_to_20190726.json'\n",
    "path_to_data_NKY = 'data/processed/NKY/Repo/repo_schedule_NKY_from_20130101_to_20190726.json'\n",
    "path_to_data_SPX = 'data/processed/SPX/Repo/repo_schedule_SPX_from_20130101_to_20190726.json'\n",
    "path_to_data_UKX = 'data/processed/UKX/Repo/repo_schedule_UKX_from_20130101_to_20190726.json'\n",
    "\n",
    "path_to_cleaned_data_SX5E = 'data/cleaned/SX5E/Repo/repo_schedule_SX5E_from_20130101_to_20190726.json'\n",
    "path_to_cleaned_data_NKY = 'data/cleaned/NKY/Repo/repo_schedule_NKY_from_20130101_to_20190726.json'\n",
    "path_to_cleaned_data_SPX = 'data/cleaned/SPX/Repo/repo_schedule_SPX_from_20130101_to_20190726.json'\n",
    "path_to_cleaned_data_UKX = 'data/cleaned/UKX/Repo/repo_schedule_UKX_from_20130101_to_20190726.json'"
   ]
  },
  {
   "cell_type": "markdown",
   "metadata": {},
   "source": [
    "### Cleaning each file by index"
   ]
  },
  {
   "cell_type": "code",
   "execution_count": 3,
   "metadata": {},
   "outputs": [],
   "source": [
    "def cleaning_data(index,path_to_processed_data,path_to_cleaned_data):\n",
    "    print('################## Cleaning dividends for index {} ##################'.format(index))\n",
    "    new_dict = {}\n",
    "    with open(path_to_processed_data) as json_file:\n",
    "        dictionary = json.load(json_file)\n",
    "    for key in list(dictionary.keys()):\n",
    "        if (dictionary[key]!=None):\n",
    "            if np.sum(np.isnan(dictionary[key][0]))==0 and np.sum(np.isnan(list(map(float,dictionary[key][1]))))==0 :\n",
    "                dictionary[key][1] = list(map(float,dictionary[key][1]))\n",
    "                new_dict[key] = dictionary[key]\n",
    "    with open(path_to_cleaned_data, 'w') as fp:\n",
    "        json.dump(new_dict, fp)\n",
    "    print('file saved')\n",
    "    return new_dict"
   ]
  },
  {
   "cell_type": "code",
   "execution_count": 16,
   "metadata": {},
   "outputs": [
    {
     "name": "stdout",
     "output_type": "stream",
     "text": [
      "################## Cleaning dividends for index UKX ##################\n",
      "file saved\n"
     ]
    }
   ],
   "source": [
    "indices = ['NKY', 'SPX', 'SX5E', 'UKX']\n",
    "new_dictionary = cleaning_data('UKX', path_to_data_UKX, path_to_cleaned_data_UKX)"
   ]
  },
  {
   "cell_type": "code",
   "execution_count": 17,
   "metadata": {},
   "outputs": [
    {
     "name": "stdout",
     "output_type": "stream",
     "text": [
      "548\n"
     ]
    }
   ],
   "source": [
    "print(len(new_dictionary.keys()))"
   ]
  }
 ],
 "metadata": {
  "kernelspec": {
   "display_name": "Python 3",
   "language": "python",
   "name": "python3"
  },
  "language_info": {
   "codemirror_mode": {
    "name": "ipython",
    "version": 3
   },
   "file_extension": ".py",
   "mimetype": "text/x-python",
   "name": "python",
   "nbconvert_exporter": "python",
   "pygments_lexer": "ipython3",
   "version": "3.6.1"
  }
 },
 "nbformat": 4,
 "nbformat_minor": 2
}
