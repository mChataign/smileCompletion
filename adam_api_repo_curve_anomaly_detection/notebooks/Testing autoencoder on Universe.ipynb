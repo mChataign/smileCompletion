{
 "cells": [
  {
   "cell_type": "code",
   "execution_count": 1,
   "metadata": {},
   "outputs": [
    {
     "name": "stderr",
     "output_type": "stream",
     "text": [
      "Using TensorFlow backend.\n"
     ]
    }
   ],
   "source": [
    "import sys\n",
    "sys.path.append(\"..\")\n",
    "import numpy as np\n",
    "import json\n",
    "import seaborn as sns\n",
    "sns.set(style=\"darkgrid\")\n",
    "import matplotlib.pyplot as plt\n",
    "from project import data_preprocessing\n",
    "from project.model import models\n",
    "import seaborn as sns\n",
    "sns.set(style=\"darkgrid\")\n",
    "from sklearn.cluster import KMeans\n",
    "import pandas as pd\n",
    "from pandas import DataFrame\n",
    "\n",
    "from sklearn.preprocessing import MinMaxScaler\n",
    "from sklearn.model_selection import KFold\n",
    "from sklearn.model_selection import train_test_split\n",
    "from sklearn.model_selection import GridSearchCV\n",
    "from sklearn.metrics import mean_squared_error\n",
    "\n",
    "import seaborn as sns \n",
    "%matplotlib inline"
   ]
  },
  {
   "cell_type": "code",
   "execution_count": 2,
   "metadata": {},
   "outputs": [
    {
     "name": "stdout",
     "output_type": "stream",
     "text": [
      "WARNING:tensorflow:From C:\\ProgramData\\Anaconda3\\lib\\site-packages\\tensorflow\\python\\framework\\op_def_library.py:263: colocate_with (from tensorflow.python.framework.ops) is deprecated and will be removed in a future version.\n",
      "Instructions for updating:\n",
      "Colocations handled automatically by placer.\n"
     ]
    }
   ],
   "source": [
    "from keras.models import load_model\n",
    "from keras.models import model_from_json\n",
    "\n",
    "with open('../project/model/saved_model/autoencoder_CV.json','r') as f:\n",
    "    autoencoder_json = json.load(f)\n",
    "\n",
    "autoencoder = model_from_json(autoencoder_json)\n",
    "autoencoder.load_weights('../project/model/saved_model/autoencoder_CV.h5')\n",
    "\n",
    "\n",
    "with open('../project/model/saved_model/encoder_CV.json','r') as f:\n",
    "    encoder_json = json.load(f)\n",
    "    \n",
    "encoder = model_from_json(encoder_json)\n",
    "encoder.load_weights('../project/model/saved_model/encoder_CV.h5')\n",
    "\n",
    "\n",
    "with open('../project/model/saved_model/decoder_CV.json','r') as f:\n",
    "    decoder_json = json.load(f)\n",
    "\n",
    "decoder = model_from_json(decoder_json)\n",
    "decoder.load_weights('../project/model/saved_model/decoder_CV.h5')"
   ]
  },
  {
   "cell_type": "markdown",
   "metadata": {},
   "source": [
    "#### Loading the data"
   ]
  },
  {
   "cell_type": "code",
   "execution_count": 3,
   "metadata": {
    "collapsed": true
   },
   "outputs": [],
   "source": [
    "file_path = '../output/universe_repo_cleaned.json'\n",
    "with open(file_path) as json_file:\n",
    "    data = json.load(json_file)"
   ]
  },
  {
   "cell_type": "code",
   "execution_count": 4,
   "metadata": {
    "collapsed": true
   },
   "outputs": [],
   "source": [
    "universe_indices = list(data.keys())\n",
    "universe_dividends = []\n",
    "for index in universe_indices:\n",
    "    universe_dividends.append(data[index][1])\n",
    "universe_dividends = np.asarray(universe_dividends)\n",
    "\n",
    "scaler = MinMaxScaler()\n",
    "df_train = pd.DataFrame(universe_dividends).T\n",
    "scaler.fit(df_train)\n",
    "df_train = pd.DataFrame(scaler.transform(df_train)).T\n",
    "universe_dividends_normalized = np.asarray(df_train)"
   ]
  },
  {
   "cell_type": "code",
   "execution_count": 5,
   "metadata": {},
   "outputs": [
    {
     "data": {
      "text/plain": [
       "array([[0.99118052, 1.        , 0.95176849, ..., 0.16702057, 0.08383096,\n",
       "        0.        ],\n",
       "       [1.        , 0.97297297, 0.94832195, ..., 0.07198054, 0.03613504,\n",
       "        0.        ],\n",
       "       [0.70936716, 0.97700028, 1.        , ..., 0.09791911, 0.03652077,\n",
       "        0.        ],\n",
       "       ...,\n",
       "       [0.88346259, 0.83158667, 1.        , ..., 0.10970367, 0.04805072,\n",
       "        0.        ],\n",
       "       [0.99118052, 1.        , 0.95176849, ..., 0.16702057, 0.08383096,\n",
       "        0.        ],\n",
       "       [1.        , 0.91597626, 0.80561012, ..., 0.11678131, 0.05867729,\n",
       "        0.        ]])"
      ]
     },
     "execution_count": 5,
     "metadata": {},
     "output_type": "execute_result"
    }
   ],
   "source": [
    "universe_dividends_normalized"
   ]
  },
  {
   "cell_type": "code",
   "execution_count": 6,
   "metadata": {},
   "outputs": [
    {
     "name": "stderr",
     "output_type": "stream",
     "text": [
      "C:\\ProgramData\\Anaconda3\\lib\\site-packages\\scipy\\stats\\stats.py:1633: FutureWarning: Using a non-tuple sequence for multidimensional indexing is deprecated; use `arr[tuple(seq)]` instead of `arr[seq]`. In the future this will be interpreted as an array index, `arr[np.array(seq)]`, which will result either in an error or a different result.\n",
      "  return np.add.reduce(sorted[indexer] * weights, axis=axis) / sumval\n"
     ]
    },
    {
     "data": {
      "text/plain": [
       "(0, 0.4169206730607974)"
      ]
     },
     "execution_count": 6,
     "metadata": {},
     "output_type": "execute_result"
    },
    {
     "data": {
      "image/png": "[encoded data removed]",
      "text/plain": [
       "<matplotlib.figure.Figure at 0x17722a90>"
      ]
     },
     "metadata": {},
     "output_type": "display_data"
    }
   ],
   "source": [
    "predicted_universe_CV_normalized = autoencoder.predict(universe_dividends_normalized)\n",
    "predicted_universe_CV = np.asarray(pd.DataFrame(scaler.inverse_transform(pd.DataFrame(predicted_universe_CV_normalized).T)).T)\n",
    "\n",
    "MSE_CV = []\n",
    "for i in range(len(universe_dividends)):\n",
    "    try:\n",
    "        MSE_CV.append(mean_squared_error(universe_dividends_normalized[i] ,predicted_universe_CV_normalized[i]))\n",
    "    except:\n",
    "        MSE_CV.append(0.)\n",
    "        \n",
    "sns.distplot(MSE_CV, bins=25)\n",
    "plt.xlim(0, np.max(MSE_CV)*2)"
   ]
  },
  {
   "cell_type": "code",
   "execution_count": 7,
   "metadata": {},
   "outputs": [
    {
     "name": "stdout",
     "output_type": "stream",
     "text": [
      "Pourcentage d'outliers : 0.68%\n",
      "Indices Of Outliers : [85]\n",
      "Seuil d'erreur : 0.208\n"
     ]
    },
    {
     "data": {
      "image/png": "[encoded data removed]",
      "text/plain": [
       "<matplotlib.figure.Figure at 0x4d2a668>"
      ]
     },
     "metadata": {},
     "output_type": "display_data"
    }
   ],
   "source": [
    "from sklearn.cluster import KMeans\n",
    "\n",
    "df = pd.DataFrame(MSE_CV)\n",
    "kmeans = KMeans(n_clusters=2).fit(df)\n",
    "centroids = kmeans.cluster_centers_\n",
    "outliers_indices = np.where(kmeans.labels_==0)[0]\n",
    "if(len(outliers_indices) >= (len(kmeans.labels_)-len(outliers_indices))):\n",
    "    outliers_indices = np.where(kmeans.labels_==1)[0]\n",
    "print(\"Pourcentage d'outliers : \" + str(np.around(len(outliers_indices)/len(kmeans.labels_)*100,2)) + \"%\")\n",
    "print(\"Indices Of Outliers : \" + str(outliers_indices))\n",
    "color = []\n",
    "for i in range(len(kmeans.labels_)):\n",
    "    if(i in outliers_indices):\n",
    "        color.append('#B05E77')\n",
    "    else:\n",
    "        color.append('#7470AB')\n",
    "\n",
    "mses = np.round_(MSE_CV,decimals=3)\n",
    "x = np.arange(0,len(mses))\n",
    "plt.bar(x, height=mses,color=color)\n",
    "MSE_outliers = mses[outliers_indices]\n",
    "seuil = np.min(MSE_outliers)\n",
    "plt.axhline(seuil)\n",
    "plt.ylabel('MSE')\n",
    "print(\"Seuil d'erreur : \" + str(seuil))"
   ]
  },
  {
   "cell_type": "code",
   "execution_count": 9,
   "metadata": {},
   "outputs": [
    {
     "name": "stderr",
     "output_type": "stream",
     "text": [
      "C:\\ProgramData\\Anaconda3\\lib\\site-packages\\scipy\\stats\\stats.py:1633: FutureWarning: Using a non-tuple sequence for multidimensional indexing is deprecated; use `arr[tuple(seq)]` instead of `arr[seq]`. In the future this will be interpreted as an array index, `arr[np.array(seq)]`, which will result either in an error or a different result.\n",
      "  return np.add.reduce(sorted[indexer] * weights, axis=axis) / sumval\n"
     ]
    },
    {
     "data": {
      "text/plain": [
       "(0, 0.4169206730607974)"
      ]
     },
     "execution_count": 9,
     "metadata": {},
     "output_type": "execute_result"
    },
    {
     "data": {
      "image/png": "[encoded data removed]",
      "text/plain": [
       "<matplotlib.figure.Figure at 0x18b9cb00>"
      ]
     },
     "metadata": {},
     "output_type": "display_data"
    }
   ],
   "source": [
    "sns.distplot(MSE_CV, bins=25)\n",
    "plt.axvline(0.085)\n",
    "plt.xlim(0, np.max(MSE_CV)*2)"
   ]
  },
  {
   "cell_type": "code",
   "execution_count": 12,
   "metadata": {},
   "outputs": [
    {
     "data": {
      "text/plain": [
       "<matplotlib.text.Text at 0x18df44e0>"
      ]
     },
     "execution_count": 12,
     "metadata": {},
     "output_type": "execute_result"
    },
    {
     "data": {
      "image/png": "[encoded data removed]",
      "text/plain": [
       "<matplotlib.figure.Figure at 0x18ea7940>"
      ]
     },
     "metadata": {},
     "output_type": "display_data"
    }
   ],
   "source": [
    "curve_number = 2\n",
    "\n",
    "plt.plot(universe_dividends[curve_number], label=\"real\")\n",
    "plt.plot(predicted_universe_CV[curve_number], label=\"predicted\")\n",
    "plt.legend()\n",
    "plt.title('Index : {}, Date: {}'.format(list(data.keys())[curve_number], data[list(data.keys())[curve_number]][2]))"
   ]
  },
  {
   "cell_type": "code",
   "execution_count": null,
   "metadata": {
    "collapsed": true
   },
   "outputs": [],
   "source": []
  }
 ],
 "metadata": {
  "kernelspec": {
   "display_name": "Python 3",
   "language": "python",
   "name": "python3"
  },
  "language_info": {
   "codemirror_mode": {
    "name": "ipython",
    "version": 3
   },
   "file_extension": ".py",
   "mimetype": "text/x-python",
   "name": "python",
   "nbconvert_exporter": "python",
   "pygments_lexer": "ipython3",
   "version": "3.6.1"
  }
 },
 "nbformat": 4,
 "nbformat_minor": 2
}
